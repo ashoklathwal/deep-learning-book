{
 "cells": [
  {
   "cell_type": "markdown",
   "metadata": {},
   "source": [
    "# Linear Algebra"
   ]
  },
  {
   "cell_type": "code",
   "execution_count": 1,
   "metadata": {},
   "outputs": [],
   "source": [
    "import tensorflow as tf"
   ]
  },
  {
   "cell_type": "markdown",
   "metadata": {},
   "source": [
    "## 2.1 Scalars, Vectors, Matrices, and Tensors"
   ]
  },
  {
   "cell_type": "markdown",
   "metadata": {},
   "source": [
    "### Scalars\n",
    "A single number. Typically written in italics, with a lowercase variable name, existing in a variety of spaces (e.g. $ \\it{x} \\in \\mathbb{R}$ or $\\it{x} \\in \\mathbb{N}$, or $\\it{x} \\in \\mathbb{Z} $)\n"
   ]
  },
  {
   "cell_type": "code",
   "execution_count": 2,
   "metadata": {},
   "outputs": [
    {
     "name": "stdout",
     "output_type": "stream",
     "text": [
      "The value of y is: 40\n"
     ]
    }
   ],
   "source": [
    "x = tf.constant(35, name='x')  # create a constant called y, which has a numerical value of 35\n",
    "y = tf.Variable(x + 5, name='y')  # create a variable called x, defined as the equation \"x + 5\"\n",
    "\n",
    "model = tf.global_variables_initializer()  # initialize variables\n",
    "\n",
    "with tf.Session() as session:  # create a session\n",
    "    session.run(model)  # run model (tf.global_variables_initializer())\n",
    "    print(\"The value of y is:\", session.run(y))  # run just the variable y and print its current value"
   ]
  },
  {
   "cell_type": "markdown",
   "metadata": {},
   "source": [
    "### Vectors\n",
    "An array of numbers, denoted by lowercase variable names written in bold. If a vector $\\bf{v}$ contains $\\it{n}$ elements, each element in $\\mathbb{R}$, then the vector lies in the set formed by taking the Cartesian product of $\\mathbb{R}$ $\\it{n}$ times, denoted as $\\mathbb{R}^n$. When we need to explicitly identify the elements of a vector, we write them as a enclosed in square brackets.\n",
    "\n",
    "For example:   $\\begin{equation}\n",
    "     v=\\begin{bmatrix}\n",
    "         v_{1} \\\\\n",
    "         v_{2} \\\\\n",
    "         \\vdots\\\\\n",
    "         v_{n}\n",
    "        \\end{bmatrix}\n",
    "  \\end{equation} \\in \\mathbb{R}^n $ is the n-dimensional vector $\\bf{v}$ in Cartesian space."
   ]
  },
  {
   "cell_type": "code",
   "execution_count": 3,
   "metadata": {},
   "outputs": [
    {
     "name": "stdout",
     "output_type": "stream",
     "text": [
      "A vector, v: [1 2 3 4]\n"
     ]
    }
   ],
   "source": [
    "v = tf.Variable([1, 2, 3, 4], tf.int32, name=\"v\")  # we can create a rank 1 tensor object (i.e. a vector) by passing a list\n",
    "\n",
    "model = tf.global_variables_initializer()  # initialize variables\n",
    "\n",
    "with tf.Session() as session:  # create a session\n",
    "    session.run(model)  # run model (tf.global_variables_initializer())\n",
    "    print(\"A vector, v:\", session.run(v))"
   ]
  },
  {
   "cell_type": "markdown",
   "metadata": {},
   "source": [
    "### Matrices"
   ]
  },
  {
   "cell_type": "markdown",
   "metadata": {},
   "source": [
    "A matrix is simply a 2-D array of numbers, denoted by uppercase letters with a bold typeface. Matrices typically follow a row-dominant notation; that is, a matrix $\\bf{A} \\in \\mathbb{R}^{m \\times n}$ is a matrix in Cartesian space with $\\it{m}$ rows and $\\it{n}$ columns. A single element of the matrix situated in the $\\it{ith}$ row and $\\it{jth}$ column is denoted $M_{i, j}$.\n",
    "\n",
    "For example: $\\begin{equation}\n",
    "A=\\begin{bmatrix}\n",
    "    a_{11} & a_{12} & a_{13} & \\dots  & a_{1n} \\\\\n",
    "    a_{21} & a_{22} & a_{23} & \\dots  & a_{2n} \\\\\n",
    "    \\vdots & \\vdots & \\vdots & \\ddots & \\vdots \\\\\n",
    "    a_{m1} & a_{m2} & a_{m3} & \\dots  & a_{mn}\n",
    "\\end{bmatrix}\n",
    "\\end{equation} \\in \\mathbb{R}^{m \\times n}$ is the real-valued $\\it{m \\times n}$ matrix $\\bf{A}$."
   ]
  },
  {
   "cell_type": "code",
   "execution_count": 4,
   "metadata": {},
   "outputs": [
    {
     "name": "stdout",
     "output_type": "stream",
     "text": [
      "A matrix, M:\n",
      " [[1 2 3]\n",
      " [4 5 6]\n",
      " [7 8 9]]\n"
     ]
    }
   ],
   "source": [
    "m = tf.Variable([[1, 2, 3], [4, 5, 6], [7, 8, 9]], tf.int32, name=\"m\") # pass in a 2-dimensional array\n",
    "\n",
    "model = tf.global_variables_initializer()  # initialize variables\n",
    "\n",
    "with tf.Session() as session:  # create a session\n",
    "    session.run(model)  # run model (tf.global_variables_initializer())\n",
    "    print(\"A matrix, M:\\n\",session.run(m))\n"
   ]
  },
  {
   "cell_type": "markdown",
   "metadata": {},
   "source": [
    "### Tensors\n",
    "\n",
    "In some cases we will need an array with more than two axes. In the general case, an array of numbers arranged on a regular grid with a variable number of axes is known as a tensor. We identify the element of a tensor $\\bf{T}$ at coordinates ($\\it{i}$, $\\it{j}$, $\\it{k}$) by writing $T_{i, j, k}$."
   ]
  },
  {
   "cell_type": "code",
   "execution_count": 5,
   "metadata": {},
   "outputs": [
    {
     "name": "stdout",
     "output_type": "stream",
     "text": [
      "A tensor, T:\n",
      " [[[ 1.  1.  1.  1.  1.]\n",
      "  [ 1.  1.  1.  1.  1.]\n",
      "  [ 1.  1.  1.  1.  1.]\n",
      "  [ 1.  1.  1.  1.  1.]]\n",
      "\n",
      " [[ 1.  1.  1.  1.  1.]\n",
      "  [ 1.  1.  1.  1.  1.]\n",
      "  [ 1.  1.  1.  1.  1.]\n",
      "  [ 1.  1.  1.  1.  1.]]\n",
      "\n",
      " [[ 1.  1.  1.  1.  1.]\n",
      "  [ 1.  1.  1.  1.  1.]\n",
      "  [ 1.  1.  1.  1.  1.]\n",
      "  [ 1.  1.  1.  1.  1.]]] \n",
      "\n",
      "T reshaped into a 6x10 matrix:\n",
      " [[ 1.  1.  1.  1.  1.  1.  1.  1.  1.  1.]\n",
      " [ 1.  1.  1.  1.  1.  1.  1.  1.  1.  1.]\n",
      " [ 1.  1.  1.  1.  1.  1.  1.  1.  1.  1.]\n",
      " [ 1.  1.  1.  1.  1.  1.  1.  1.  1.  1.]\n",
      " [ 1.  1.  1.  1.  1.  1.  1.  1.  1.  1.]\n",
      " [ 1.  1.  1.  1.  1.  1.  1.  1.  1.  1.]]\n"
     ]
    }
   ],
   "source": [
    "t = tf.ones([3, 4, 5])  # 3x4x5 tensor populated with ones\n",
    "t_mat = tf.reshape(t, [6, 10])  # reshape t by passing t into tf.reshape with the desired dimensions\n",
    "\n",
    "model = tf.global_variables_initializer()  # initialize variables\n",
    "\n",
    "with tf.Session() as session:  # create a session\n",
    "    session.run(model)  # run model (tf.global_variables_initializer())\n",
    "    print(\"A tensor, T:\\n\",session.run(t), \"\\n\")  # print t\n",
    "    print(\"T reshaped into a 6x10 matrix:\\n\", session.run(t_mat))  # print t_mat"
   ]
  },
  {
   "cell_type": "markdown",
   "metadata": {},
   "source": [
    "### Transposes\n",
    "\n",
    "One important operation on matrices is the transpose. The transpose of a matrix is the mirror image of the matrix across a diagonal line (called the \"main diagonal\") which begins in the upper left corner, running down and across ot the bottom right. We denote the transpose of a matrix $\\bf{A}$ as $\\bf{A}^\\top$, and it is defined such that $({\\bf{A}^\\top}_{i, j} = A_{j, i})$.\n",
    "\n"
   ]
  },
  {
   "cell_type": "code",
   "execution_count": 6,
   "metadata": {},
   "outputs": [
    {
     "name": "stdout",
     "output_type": "stream",
     "text": [
      "A matrix, M:\n",
      " [[1 2 3]\n",
      " [4 5 6]\n",
      " [7 8 9]] \n",
      "\n",
      "The transpose of M:\n",
      " [[1 4 7]\n",
      " [2 5 8]\n",
      " [3 6 9]]\n"
     ]
    }
   ],
   "source": [
    "# recall m = tf.Variable([[1, 2, 3], [4, 5, 6], [7, 8, 9]], tf.int32, name=\"m\")\n",
    "m_t = tf.transpose(m)\n",
    "\n",
    "model = tf.global_variables_initializer()  # initialize variables\n",
    "\n",
    "with tf.Session() as session:  # create a session\n",
    "    session.run(model)  # run model (tf.global_variables_initializer())\n",
    "    print(\"A matrix, M:\\n\",session.run(m), \"\\n\")\n",
    "    print(\"The transpose of M:\\n\", session.run(m_t))"
   ]
  },
  {
   "cell_type": "markdown",
   "metadata": {},
   "source": [
    "### Other Operations\n",
    "\n",
    "**Matrix Addition**: We can add matrices together (given that they have the same shape) which is simply addition of corresponding elements:"
   ]
  },
  {
   "cell_type": "code",
   "execution_count": 7,
   "metadata": {},
   "outputs": [
    {
     "name": "stdout",
     "output_type": "stream",
     "text": [
      "A matrix, m:\n",
      " [[1 2 3]\n",
      " [4 5 6]\n",
      " [7 8 9]] \n",
      "\n",
      "A matrix, n:\n",
      " [[1 1 1]\n",
      " [1 1 1]\n",
      " [1 1 1]] \n",
      "\n",
      "A matrix p, i.e. m + n:\n",
      " [[ 2  3  4]\n",
      " [ 5  6  7]\n",
      " [ 8  9 10]] \n",
      "\n"
     ]
    }
   ],
   "source": [
    "# recall m = tf.Variable([[1, 2, 3], [4, 5, 6], [7, 8, 9]], tf.int32, name=\"m\")\n",
    "n = tf.ones([3, 3], tf.int32, name=\"n\")\n",
    "p = tf.add(m, n, name=\"p\")\n",
    "\n",
    "model = tf.global_variables_initializer()  # initialize variables\n",
    "\n",
    "with tf.Session() as session:  # create a session\n",
    "    session.run(model)  # run model (tf.global_variables_initializer())\n",
    "    print(\"A matrix, m:\\n\", session.run(m), \"\\n\")\n",
    "    print(\"A matrix, n:\\n\", session.run(n) ,\"\\n\")\n",
    "    print(\"A matrix p, i.e. m + n:\\n\", session.run(p), \"\\n\")"
   ]
  },
  {
   "cell_type": "markdown",
   "metadata": {},
   "source": [
    "**Matrix and Scalar Addition/Multiplication**: We can add a scalar to a matrix, or multiply a matrix by a scalar. Here, each element of the matrix is operated on by the given scalar:"
   ]
  },
  {
   "cell_type": "code",
   "execution_count": 8,
   "metadata": {},
   "outputs": [
    {
     "name": "stdout",
     "output_type": "stream",
     "text": [
      "A matrix, m:\n",
      " [[1 2 3]\n",
      " [4 5 6]\n",
      " [7 8 9]] \n",
      "\n",
      "A scalar, x: 2 \n",
      "\n",
      "A matrix y, i.e. m + x:\n",
      " [[ 3  4  5]\n",
      " [ 6  7  8]\n",
      " [ 9 10 11]] \n",
      "\n",
      "A matrix z, i.e. m * x:\n",
      " [[ 2  4  6]\n",
      " [ 8 10 12]\n",
      " [14 16 18]]\n"
     ]
    }
   ],
   "source": [
    "# recall m = tf.Variable([[1, 2, 3], [4, 5, 6], [7, 8, 9]], tf.int32, name=\"m\")\n",
    "x = tf.constant(2, name='x')\n",
    "y = tf.add(m, x, name=\"y\")\n",
    "z = tf.multiply(m, x, name=\"z\")\n",
    "\n",
    "model = tf.global_variables_initializer()  # initialize variables\n",
    "\n",
    "with tf.Session() as session:  # create a session\n",
    "    session.run(model)  # run model (tf.global_variables_initializer())\n",
    "    print(\"A matrix, m:\\n\", session.run(m), \"\\n\")\n",
    "    print(\"A scalar, x:\", session.run(x), \"\\n\")\n",
    "    print(\"A matrix y, i.e. m + x:\\n\", session.run(y), \"\\n\")\n",
    "    print(\"A matrix z, i.e. m * x:\\n\", session.run(z))"
   ]
  },
  {
   "cell_type": "markdown",
   "metadata": {},
   "source": [
    "**Matrix and Vector Addition**: In the context of deep learning, we also allow the addition of matrix and a vector, yielding another matrix, where the addition is done row-wise (each element in the vector is added to a corresponding element in each row of the matrix)."
   ]
  },
  {
   "cell_type": "code",
   "execution_count": 9,
   "metadata": {},
   "outputs": [
    {
     "name": "stdout",
     "output_type": "stream",
     "text": [
      "A matrix, m:\n",
      " [[1 2 3]\n",
      " [4 5 6]\n",
      " [7 8 9]] \n",
      "\n",
      "A vector, v: [1 2 1] \n",
      "\n",
      "A matrix n, i.e. m + v:\n",
      " [[ 2  4  4]\n",
      " [ 5  7  7]\n",
      " [ 8 10 10]] \n",
      "\n"
     ]
    }
   ],
   "source": [
    "# recall m = tf.Variable([[1, 2, 3], [4, 5, 6], [7, 8, 9]], tf.int32, name=\"m\")\n",
    "v = tf.Variable([1, 2, 1], tf.int32, name=\"v\")\n",
    "n = tf.add(m, v, name=\"n\")\n",
    "\n",
    "model = tf.global_variables_initializer()  # initialize variables\n",
    "\n",
    "with tf.Session() as session:  # create a session\n",
    "    session.run(model)  # run model (tf.global_variables_initializer())\n",
    "    print(\"A matrix, m:\\n\", session.run(m), \"\\n\")\n",
    "    print(\"A vector, v:\", session.run(v), \"\\n\")\n",
    "    print(\"A matrix n, i.e. m + v:\\n\", session.run(n), \"\\n\")\n"
   ]
  },
  {
   "cell_type": "markdown",
   "metadata": {},
   "source": [
    "## 2.2 Multiplying Matrices and Vectors"
   ]
  },
  {
   "cell_type": "markdown",
   "metadata": {},
   "source": [
    "### The Dot Product"
   ]
  },
  {
   "cell_type": "markdown",
   "metadata": {},
   "source": [
    "The dot product between two vectors $\\bf{x}$ and $\\bf{y}$ of the same dimensionality (i.e. the same number of elements) is the matrix product $\\bf{x}^\\top\\bf{y}$, where the result is the scalar which is the sum of products of corresponding elements, i.e. $\\bf{x} \\dot \\bf{y} = \\sum\\limits_{k}x_{i}y_{i}$."
   ]
  },
  {
   "cell_type": "code",
   "execution_count": 10,
   "metadata": {},
   "outputs": [
    {
     "name": "stdout",
     "output_type": "stream",
     "text": [
      "A vector, v: [1 2 1] \n",
      "\n",
      "A vector, w: [3 2 1] \n",
      "\n",
      "The dot product of v and w: 8\n"
     ]
    }
   ],
   "source": [
    "# recall v = tf.Variable([1, 2, 1], tf.int32, name=\"v\")\n",
    "w = tf.Variable([3, 2, 1], tf.int32, name=\"w\")\n",
    "x = tf.tensordot(v, w, 1, name=\"x\")\n",
    "\n",
    "model = tf.global_variables_initializer()  # initialize variables\n",
    "\n",
    "with tf.Session() as session:  # create a session\n",
    "    session.run(model)  # run model (tf.global_variables_initializer())\n",
    "    print(\"A vector, v:\", session.run(v), \"\\n\")\n",
    "    print(\"A vector, w:\", session.run(w), \"\\n\")\n",
    "    print(\"The dot product of v and w:\", session.run(x))"
   ]
  },
  {
   "cell_type": "markdown",
   "metadata": {},
   "source": [
    "### Matrix Multiplication"
   ]
  },
  {
   "cell_type": "markdown",
   "metadata": {},
   "source": [
    "One of the most important operations involving matrices is the multiplication of two matrices. The matrix product of matrices $\\bf{A}$ and $\\bf{B}$ is a third matrix, $\\bf{C}$. In order for this product to be defined, $\\bf{A}$ must have the same number of columns as $\\bf{B}$ has rows. If $\\bf{A}$ is of shape $\\it{m \\times n}$ and $\\bf{B}$ is of shape $\\it{n \\times p}$ then $\\bf{C}$ is of shape $\\it{m \\times p}$.\n",
    "\n",
    "We can write the matrix product by just placing two or more matrices together, for example, $ \\bf{C} = \\bf{AB} $.\n",
    "\n",
    "The product operation is defined by $C_{i, j} = \\sum\\limits_{k} A_{i, k}B_{k, j} $.\n",
    "\n",
    "**Remark**: The standard product of two matrices is NOT simply the multiplication of corresponding elements."
   ]
  },
  {
   "cell_type": "code",
   "execution_count": 11,
   "metadata": {},
   "outputs": [
    {
     "name": "stdout",
     "output_type": "stream",
     "text": [
      "A matrix, m:\n",
      " [[1 2 3]\n",
      " [4 5 6]\n",
      " [7 8 9]] \n",
      "\n",
      "A matrix n:\n",
      " [[1 2 1]\n",
      " [1 0 2]\n",
      " [2 1 0]] \n",
      "\n",
      "A matrix p, i.e. the matrix product mn:\n",
      " [[ 9  5  5]\n",
      " [21 14 14]\n",
      " [33 23 23]]\n"
     ]
    }
   ],
   "source": [
    "# recall m = tf.Variable([[1, 2, 3], [4, 5, 6], [7, 8, 9]], tf.int32, name=\"m\")\n",
    "n = tf.Variable([[1, 2, 1], [1, 0, 2], [2, 1, 0]])\n",
    "p = tf.matmul(m, n, name=\"p\")\n",
    "\n",
    "model = tf.global_variables_initializer()  # initialize variables\n",
    "\n",
    "with tf.Session() as session:  # create a session\n",
    "    session.run(model)  # run model (tf.global_variables_initializer())\n",
    "    print(\"A matrix, m:\\n\", session.run(m), \"\\n\")\n",
    "    print(\"A matrix n:\\n\", session.run(n), \"\\n\")\n",
    "    print(\"A matrix p, i.e. the matrix product mn:\\n\", session.run(p))"
   ]
  },
  {
   "cell_type": "markdown",
   "metadata": {},
   "source": [
    "### Properties of Matrix Multiplication\n",
    "1. Distributive, i.e. $\\bf{A}(\\bf{B}+\\bf{C}) = \\bf{AB} + \\bf{AC}$\n",
    "2. Associative, i.e. $\\bf{A}(\\bf{B}\\bf{C}) = (\\bf{AB})\\bf{C}$\n",
    "3. NOT Commutative, i.e. $\\bf{AB} = \\bf{BA}$ does NOT always hold."
   ]
  },
  {
   "cell_type": "markdown",
   "metadata": {},
   "source": [
    "While matrix multiplication is not commutative, the dot product of vectors is, i.e. $\\bf{x}^\\top\\bf{y} = \\bf{y}^\\top \\bf{x}$. \n",
    "\n",
    "The transpose of a matrix product has the simple form $(\\bf{AB})^\\top = \\bf{B}^\\top\\bf{A}^\\top$.\n",
    "\n",
    "This allows us to demonstrate the commutativity of the dot product by exploiting the fact that the value of such a product is a scalar and is therefore equal to its own transpose, i.e. $\\bf{x}^\\top\\bf{y} = (\\bf{x}^\\top\\bf{y})^\\top = \\bf{y}^\\top \\bf{x} $."
   ]
  },
  {
   "cell_type": "markdown",
   "metadata": {},
   "source": [
    "### Systems of Linear Equations\n",
    "\n",
    "We now know enough linear algebra to write down a system of linear equations, $\\bf{Ax} = \\bf{b}$, where $\\bf{A} \\in \\mathbb{R}^{m \\times n} $ is a known matrix, $\\bf{b} \\in \\mathbb{R}^m$ is a known vector, and $\\bf{x} \\in \\mathbb{R}^n$ is a vector of unknown variables we'd like to solve for.\n",
    "\n",
    "We can rewrite the above equation as:\n",
    "\n",
    "$\\bf{A}_\\it{1, 1}x_{1} + \\bf{A}_\\it{1, 2}x_{2} + \\dots + \\bf{A}_\\it{1, n}x_{1} = \\it{b}_{1} \\\\\n",
    "\\bf{A}_\\it{2, 1}x_{1} + \\bf{A}_\\it{2, 2}x_{2} + \\dots + \\bf{A}_\\it{2, n}x_{n} = \\it{b}_{2} \\\\\n",
    "\\dots \\\\\n",
    "\\bf{A}_\\it{m, 1}x_{1} + \\bf{A}_\\it{m, 2}x_{1} + \\dots + \\bf{A}_\\it{m, n}x_{n} = \\it{b}_{m}$"
   ]
  },
  {
   "cell_type": "markdown",
   "metadata": {},
   "source": [
    "## 2.3 Identity and Inverse Matrices"
   ]
  },
  {
   "cell_type": "markdown",
   "metadata": {},
   "source": [
    "Linear algebra offers a powerful tool called **matrix inversion** that enables us to analytically solve systems of linear equations for many values of $\\bf{A}$.\n",
    "\n",
    "To describe matrix inversion, we first need to define the concept of an **identity matrix**. An identity matrix, characterized by zero entries except those occupying the main diagonal (these are all 1's), has the property that it does not change any vector when we multiply that vector by the matrix. We denote the identy matrix that preserves $\\it{n}$-dimensional vectors as $\\bf{I}_\\it{n}$, where $\\bf{I}_\\it{n} \\in \\mathbb{R}^{n \\times n}$ and $ \\forall{x} \\in \\mathbb{R}^{n}, \\bf{I}_\\it{n}\\bf{x} = x$"
   ]
  },
  {
   "cell_type": "markdown",
   "metadata": {},
   "source": [
    "Thus, the **matrix inverse** of $\\bf{A}$ is denoted as $\\bf{A}^{-1}A = \\bf{I}_\\it{n}$."
   ]
  },
  {
   "cell_type": "markdown",
   "metadata": {},
   "source": [
    "We can now solve the equation $\\bf{Ax} = \\bf{b}$ with the following steps:\n",
    "\n",
    "$\\bf{A}^{-1}Ax = \\bf{A}^{-1}\\it{b} \\\\\n",
    "\\bf{I}_\\it{n}\\bf{x} = \\bf{A}^{-1}\\it{b} \\\\\n",
    "\\bf{x} = \\bf{A}^{-1}\\it{b} $"
   ]
  },
  {
   "cell_type": "markdown",
   "metadata": {},
   "source": [
    "Of course this process relies on it being possible to find $\\bf{A}^{-1}$. The conditions for the existence of $\\bf{A}^{-1}$ are discussed in the following section. \n",
    "\n",
    "When $\\bf{A}^{-1}$ exits, several different algorithms can find it in closed form. In theory, the same inverse matrix can be used to solve the equation many times for different values of $\\it{b}$. While useful as a theoretical tool, $\\bf{A}^{-1}$ should note actually be used in practice for most software applications. Because $\\bf{A}^{-1}$ can be represented with only limited precision on a digital computer, algorithms that make use of the value of b can usually obtain more accurate estimates of $\\bf{x}$."
   ]
  },
  {
   "cell_type": "markdown",
   "metadata": {},
   "source": [
    "## Linear Dependence and Span"
   ]
  },
  {
   "cell_type": "markdown",
   "metadata": {},
   "source": [
    "For $\\bf{A}^{-1}$ to exist, the equation $\\bf{Ax} = \\bf{b}$ must have exactly one solution for every value of $\\bf{b}$. It is also possible for the system of equations to have **no solutions** or **infinitely many solution** for some values of $\\it{b}$. It is not possible, however, to have more than one but less than infinitely many solutions for a particular $\\it{b}$; if both $\\bf{x}$ and $\\bf{y}$ are solutions, then $\\bf{z} = \\it{\\alpha}\\bf{x} + (1-\\it{\\alpha})\\bf{y}$"
   ]
  },
  {
   "cell_type": "markdown",
   "metadata": {},
   "source": [
    "To analyze how many solutions the equation has, think of the columns of $\\bf{A}$ as specifying the different directions we can travel in from the **origin** (specified as the $\\it{n}$-dimensional vector of zeros) then determine how many ways there are of reaching $\\it{b}$. In this view, each elements of $\\bf{x}$ specifies how far we should travel in each of these directions, with $\\bf{x}_{\\it{i}}$ specifying how far to move in the direction of column $\\it{i}$."
   ]
  },
  {
   "cell_type": "code",
   "execution_count": null,
   "metadata": {},
   "outputs": [],
   "source": []
  },
  {
   "cell_type": "code",
   "execution_count": null,
   "metadata": {},
   "outputs": [],
   "source": []
  }
 ],
 "metadata": {
  "kernelspec": {
   "display_name": "Python 3",
   "language": "python",
   "name": "python3"
  },
  "language_info": {
   "codemirror_mode": {
    "name": "ipython",
    "version": 3
   },
   "file_extension": ".py",
   "mimetype": "text/x-python",
   "name": "python",
   "nbconvert_exporter": "python",
   "pygments_lexer": "ipython3",
   "version": "3.6.3"
  }
 },
 "nbformat": 4,
 "nbformat_minor": 2
}
